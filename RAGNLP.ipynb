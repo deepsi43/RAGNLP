{
  "cells": [
    {
      "cell_type": "markdown",
      "metadata": {
        "id": "view-in-github",
        "colab_type": "text"
      },
      "source": [
        "<a href=\"https://colab.research.google.com/github/deepsi43/RAGNLP/blob/main/RAGNLP.ipynb\" target=\"_parent\"><img src=\"https://colab.research.google.com/assets/colab-badge.svg\" alt=\"Open In Colab\"/></a>"
      ]
    },
    {
      "cell_type": "code",
      "execution_count": null,
      "id": "11dd64fc",
      "metadata": {
        "id": "11dd64fc"
      },
      "outputs": [],
      "source": []
    },
    {
      "cell_type": "code",
      "execution_count": null,
      "id": "c8c888dc",
      "metadata": {
        "id": "c8c888dc"
      },
      "outputs": [],
      "source": [
        "import os"
      ]
    },
    {
      "cell_type": "code",
      "execution_count": null,
      "id": "c10d3359",
      "metadata": {
        "id": "c10d3359"
      },
      "outputs": [],
      "source": []
    },
    {
      "cell_type": "code",
      "execution_count": null,
      "id": "b32966fa",
      "metadata": {
        "id": "b32966fa"
      },
      "outputs": [],
      "source": [
        "from pinecone import pinecone"
      ]
    },
    {
      "cell_type": "code",
      "execution_count": null,
      "id": "41ed3af7",
      "metadata": {
        "id": "41ed3af7"
      },
      "outputs": [],
      "source": [
        "\n"
      ]
    },
    {
      "cell_type": "code",
      "execution_count": null,
      "id": "e6c8260a",
      "metadata": {
        "id": "e6c8260a"
      },
      "outputs": [],
      "source": []
    },
    {
      "cell_type": "code",
      "execution_count": null,
      "id": "c0e74ca7",
      "metadata": {
        "id": "c0e74ca7"
      },
      "outputs": [],
      "source": [
        "from transformers import T5ForConditionalGeneration, T5Tokenizer\n",
        "import fitz\n",
        "\n",
        "model_name = \"google/flan-t5-small\"\n",
        "tokenizer = T5Tokenizer.from_pretrained(model_name)\n",
        "model = T5ForConditionalGeneration.from_pretrained(model_name)\n",
        "text = \"\"\n"
      ]
    },
    {
      "cell_type": "code",
      "execution_count": null,
      "id": "f91edffb",
      "metadata": {
        "id": "f91edffb"
      },
      "outputs": [],
      "source": []
    },
    {
      "cell_type": "code",
      "execution_count": null,
      "id": "54b0fa1b",
      "metadata": {
        "id": "54b0fa1b"
      },
      "outputs": [],
      "source": [
        "document understanding and question -answering"
      ]
    },
    {
      "cell_type": "code",
      "execution_count": null,
      "id": "d300fac9",
      "metadata": {
        "id": "d300fac9"
      },
      "outputs": [],
      "source": [
        "use rag to retrieve content based on external sources or dedicated content like company data for the user"
      ]
    },
    {
      "cell_type": "code",
      "execution_count": null,
      "id": "05071ee4",
      "metadata": {
        "id": "05071ee4"
      },
      "outputs": [],
      "source": [
        "embedding\n",
        "embeddig model"
      ]
    },
    {
      "cell_type": "code",
      "execution_count": null,
      "id": "b621c861",
      "metadata": {
        "id": "b621c861"
      },
      "outputs": [],
      "source": [
        "pdfdoc=\"./UPSC.pdf\"\n",
        "##pdf_text = extract_text_from_pdf(pdfdoc)\n"
      ]
    },
    {
      "cell_type": "code",
      "execution_count": null,
      "id": "e829c60f",
      "metadata": {
        "id": "e829c60f"
      },
      "outputs": [],
      "source": [
        "text=\"\""
      ]
    },
    {
      "cell_type": "code",
      "execution_count": null,
      "id": "8ef64aed",
      "metadata": {
        "id": "8ef64aed"
      },
      "outputs": [],
      "source": [
        "fitzsupport=['pdf']"
      ]
    },
    {
      "cell_type": "code",
      "execution_count": null,
      "id": "7141b605",
      "metadata": {
        "id": "7141b605"
      },
      "outputs": [],
      "source": [
        "with fitz.open(pdfdoc) as pdfdoc:\n",
        "    num_pages=pdfdoc.page_count\n",
        "    for page_num in range(num_pages):\n",
        "        page=pdfdoc[page_num]\n",
        "        text +=page.get_text()"
      ]
    },
    {
      "cell_type": "code",
      "execution_count": null,
      "id": "d84b376d",
      "metadata": {
        "id": "d84b376d",
        "outputId": "0a18e5cb-78a5-4520-fdf6-dd244b546683"
      },
      "outputs": [
        {
          "name": "stdout",
          "output_type": "stream",
          "text": [
            "Complete Book List For UPSC IAS Preparation \n",
            "The UPSC Syllabus for Civil Services Prelims and Mains examination is comprehensive and \n",
            "requires a lot of information sources to adequately address the challenges of the UPSC question \n",
            "paper. Here, we are giving the list of books for IAS Examination. \n",
            "NCERT Textbooks \n",
            "1.\n",
            "NCERT Text Books from Class 6 – 12th. NCERTs (also OLD NCERTs) are the first step\n",
            "towards IAS preparation. Download them for free here.\n",
            "2.\n",
            "Or check our free NCERT notes section.\n",
            "Indian History and Culture \n",
            "1.\n",
            "India’s Ancient Past – R.S. Sharma.\n",
            "2.\n",
            "History Of Medieval India – Satish Chandra\n",
            "3.\n",
            "History Of Modern India – Bipan Chandra.\n",
            "4.\n",
            "India’s Struggle For Independence – Bipan Chandra. (For Mains only)\n",
            "5.\n",
            "The Wonder That Was India – A.L. Bhasham (Ancient India and Culture)\n",
            "6.\n",
            "Indian Art and Culture – Nitin Singhania. (For Prelims – Culture)\n",
            "7.\n",
            "A Brief History of Modern India – Spectrum (For Prelims)\n",
            "Indian Geography and World Geography \n",
            "1.\n",
            "Oxford School Atlas or any good quality Atlas\n",
            "2.\n",
            "Geography of India – Majid Husain.\n",
            "3.\n",
            "World Geography – Majid Husain\n",
            "4.\n",
            "Certificate Physical and Human Geography – Goh Cheng Leong. (Physical and Human\n",
            "Geography)\n",
            "Indian Polity and Constitution \n",
            "1.\n",
            "Indian Polity for Civil Services Examinations – M. Laxmikanth. (ESSENTIAL FOR UPSC)\n",
            "2.\n",
            "Introduction to the Constitution of India – D. D. Basu (only for Mains)\n",
            "Indian Economy \n",
            "1.\n",
            "Indian Economy – Ramesh Singh.\n",
            "2. Often questions on Indian Economy are linked with Current Affairs; more on Current Affairs \n",
            "prep later \n",
            " \n",
            " \n",
            "Science and Technology \n",
            "1. Science and Technology in India – Ravi P Agrahari. \n",
            "2. Read NCERTs for S&T topics selectively and follow Current Affairs  \n",
            " \n",
            "Environment – Ecology, Biodiversity and Climate Change \n",
            "1. Environment for Civil Services Prelims and Mains – Khuller.  \n",
            " \n",
            "Current Affairs \n",
            "1. India Year Book  \n",
            "2. Yojana Magazine \n",
            "3. Kurukshetra Magazine \n",
            "4. Economic and Political Weekly \n",
            "5. Science Reporter \n",
            "6. The Hindu/ The Indian Express \n",
            "7. RSTV \n",
            "8. Press Information Bureau \n",
            " \n",
            "CSAT  \n",
            "1. Analytical Reasoning – M. K. Pandey  \n",
            "2. Verbal & Non-Verbal Reasoning – R. S.Aggarwal  \n",
            " \n",
            "For all CSAT related information, preparation strategy and more, check here. \n",
            " \n",
            " \n",
            "Other important reference books \n",
            "1. Essays for Civil Services – Pulkit Khare \n",
            "2. India After Gandhi – Ramchandra Guha \n",
            "3. Mastering Modern World History – Norman Lowe \n",
            "4. Social Problems In India – Ram Ahuja. \n",
            "5. Governance in India – Laxmikanth. \n",
            "6. India and the World by Surendra Kumar. \n",
            "7. Challenges to Internal Security of India – Ashok Kumar. \n",
            "8. Lexicon for Ethics, Integrity, and Aptitude – Niraj Kumar. \n",
            " \n",
            " \n",
            "IAS Books in Hindi Language \n",
            "Hindi medium aspirants can check the book list here. \n",
            " \n",
            " \n",
            "BYJU’S Free IAS Preparation \n",
            " \n",
            "Importance of Current Affairs in UPSC can’t be stressed enough. Even questions from traditionally \n",
            "static part of the syllabus have become increasingly linked with the current affairs in recent years. \n",
            " \n",
            "At our IAS Current Affairs page, find the latest UPSC related information curated by experts for your \n",
            "convenience. \n",
            "1. Gist Of Yojana \n",
            "2. PIB Summary and Analysis \n",
            "3. Daily Comprehensive News Analysis \n",
            "4. Daily Video Analysis - The Hindu \n",
            " \n",
            " \n",
            "For complete IAS preparation, register @ BYJU’S \n",
            "\n"
          ]
        }
      ],
      "source": [
        "print(text)"
      ]
    },
    {
      "cell_type": "code",
      "execution_count": null,
      "id": "16440b1f",
      "metadata": {
        "id": "16440b1f",
        "outputId": "9fd5649a-e906-48d8-cfff-cd16ff1b39e4"
      },
      "outputs": [
        {
          "name": "stdout",
          "output_type": "stream",
          "text": [
            "Question: What are the current affairs in document?\n",
            "Answer: a parliamentary election\n"
          ]
        }
      ],
      "source": [
        "user_question = \"What are the current affairs in document?\"\n",
        "print(f\"Question: {user_question}\")\n",
        "\n",
        "\n",
        "inputs = tokenizer.encode(f\"question:  {user_question}\", return_tensors=\"pt\", max_length=512, truncation=True)\n",
        "outputs = model.generate(inputs)\n",
        "answer = tokenizer.decode(outputs[0], skip_special_tokens=True)\n",
        "print(f\"Answer: {answer}\")"
      ]
    },
    {
      "cell_type": "code",
      "execution_count": null,
      "id": "ba178787",
      "metadata": {
        "id": "ba178787"
      },
      "outputs": [],
      "source": []
    }
  ],
  "metadata": {
    "kernelspec": {
      "display_name": "Python 3 (ipykernel)",
      "language": "python",
      "name": "python3"
    },
    "language_info": {
      "codemirror_mode": {
        "name": "ipython",
        "version": 3
      },
      "file_extension": ".py",
      "mimetype": "text/x-python",
      "name": "python",
      "nbconvert_exporter": "python",
      "pygments_lexer": "ipython3",
      "version": "3.11.5"
    },
    "colab": {
      "provenance": [],
      "include_colab_link": true
    }
  },
  "nbformat": 4,
  "nbformat_minor": 5
}